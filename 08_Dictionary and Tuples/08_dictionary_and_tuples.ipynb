{
  "nbformat": 4,
  "nbformat_minor": 0,
  "metadata": {
    "colab": {
      "provenance": []
    },
    "kernelspec": {
      "name": "python3",
      "display_name": "Python 3"
    },
    "language_info": {
      "name": "python"
    }
  },
  "cells": [
    {
      "cell_type": "code",
      "execution_count": null,
      "metadata": {
        "id": "lm05s1QOOmaD"
      },
      "outputs": [],
      "source": [
        "expense = [1200, 1400, 1700]"
      ]
    },
    {
      "cell_type": "code",
      "source": [
        "point = (5,6)"
      ],
      "metadata": {
        "id": "0zz1aZL7PBuu"
      },
      "execution_count": null,
      "outputs": []
    },
    {
      "cell_type": "code",
      "source": [
        "point[0]"
      ],
      "metadata": {
        "colab": {
          "base_uri": "https://localhost:8080/"
        },
        "id": "3pv2ZFNVPE1j",
        "outputId": "4c28ea83-a4a7-4160-eb16-ce0a693f7ef3"
      },
      "execution_count": null,
      "outputs": [
        {
          "output_type": "execute_result",
          "data": {
            "text/plain": [
              "5"
            ]
          },
          "metadata": {},
          "execution_count": 3
        }
      ]
    },
    {
      "cell_type": "code",
      "source": [
        "point[1]"
      ],
      "metadata": {
        "colab": {
          "base_uri": "https://localhost:8080/"
        },
        "id": "qDzpLVVMPHti",
        "outputId": "4e6e2eb2-3ce1-431d-eb2e-73adcfff0a92"
      },
      "execution_count": null,
      "outputs": [
        {
          "output_type": "execute_result",
          "data": {
            "text/plain": [
              "6"
            ]
          },
          "metadata": {},
          "execution_count": 4
        }
      ]
    },
    {
      "cell_type": "code",
      "source": [
        "point[0] = 3"
      ],
      "metadata": {
        "colab": {
          "base_uri": "https://localhost:8080/",
          "height": 141
        },
        "id": "xJWOJe06PLHn",
        "outputId": "e486bf71-00b8-4e54-bb69-957f9659322d"
      },
      "execution_count": null,
      "outputs": [
        {
          "output_type": "error",
          "ename": "TypeError",
          "evalue": "'tuple' object does not support item assignment",
          "traceback": [
            "\u001b[0;31m---------------------------------------------------------------------------\u001b[0m",
            "\u001b[0;31mTypeError\u001b[0m                                 Traceback (most recent call last)",
            "\u001b[0;32m<ipython-input-5-774c5d3caf10>\u001b[0m in \u001b[0;36m<cell line: 0>\u001b[0;34m()\u001b[0m\n\u001b[0;32m----> 1\u001b[0;31m \u001b[0mpoint\u001b[0m\u001b[0;34m[\u001b[0m\u001b[0;36m0\u001b[0m\u001b[0;34m]\u001b[0m \u001b[0;34m=\u001b[0m \u001b[0;36m3\u001b[0m\u001b[0;34m\u001b[0m\u001b[0;34m\u001b[0m\u001b[0m\n\u001b[0m",
            "\u001b[0;31mTypeError\u001b[0m: 'tuple' object does not support item assignment"
          ]
        }
      ]
    },
    {
      "cell_type": "code",
      "source": [
        "def find_pe_and_pb(price, eps, book_value):\n",
        "  pe = price/eps\n",
        "  pb = price/book_value\n",
        "  return pe, pb"
      ],
      "metadata": {
        "id": "luqxQ5NqPPcn"
      },
      "execution_count": 2,
      "outputs": []
    },
    {
      "cell_type": "code",
      "source": [
        "pe_ratio, pb_ratio = find_pe_and_pb(100,2,4)"
      ],
      "metadata": {
        "id": "KwYfBrmrPw6Y"
      },
      "execution_count": 3,
      "outputs": []
    },
    {
      "cell_type": "code",
      "source": [
        "print(pe_ratio,pb_ratio)"
      ],
      "metadata": {
        "colab": {
          "base_uri": "https://localhost:8080/"
        },
        "id": "SMTUdSv4P6Mi",
        "outputId": "c6367f8b-5725-45fc-8b50-b36852a9b09a"
      },
      "execution_count": 4,
      "outputs": [
        {
          "output_type": "stream",
          "name": "stdout",
          "text": [
            "50.0 25.0\n"
          ]
        }
      ]
    },
    {
      "cell_type": "code",
      "source": [
        "type(find_pe_and_pb(100, 456, 44))"
      ],
      "metadata": {
        "colab": {
          "base_uri": "https://localhost:8080/"
        },
        "id": "A26b82TrJxt2",
        "outputId": "8d84ac77-120d-48af-a9ee-82618b120f32"
      },
      "execution_count": 7,
      "outputs": [
        {
          "output_type": "execute_result",
          "data": {
            "text/plain": [
              "tuple"
            ]
          },
          "metadata": {},
          "execution_count": 7
        }
      ]
    },
    {
      "cell_type": "code",
      "source": [
        "contacts = [('rachel', 8554564565), ('monica', 4845626264), ('joey', 48545967465)]"
      ],
      "metadata": {
        "id": "TXhGJ0DxP-du"
      },
      "execution_count": 8,
      "outputs": []
    },
    {
      "cell_type": "code",
      "source": [
        "for contact in contacts:\n",
        "  if contact[0] == 'rachel':\n",
        "    print(contact[1])"
      ],
      "metadata": {
        "id": "wh-gqyCWQhlM",
        "colab": {
          "base_uri": "https://localhost:8080/"
        },
        "outputId": "a05fac04-1a81-4ef6-f740-9918e1680c2d"
      },
      "execution_count": 10,
      "outputs": [
        {
          "output_type": "stream",
          "name": "stdout",
          "text": [
            "8554564565\n"
          ]
        }
      ]
    },
    {
      "cell_type": "code",
      "source": [
        "d= {\n",
        "    'rachel': 8554564565,\n",
        "    'monica': 4845626264,\n",
        "    'joey': 48545967465\n",
        "}"
      ],
      "metadata": {
        "id": "gT0_Fg2hKZpF"
      },
      "execution_count": 11,
      "outputs": []
    },
    {
      "cell_type": "code",
      "source": [
        "d['joey']"
      ],
      "metadata": {
        "colab": {
          "base_uri": "https://localhost:8080/"
        },
        "id": "lqYdLepXK_gm",
        "outputId": "55a32c78-96f6-45fa-d4de-8ce1a42ee8f9"
      },
      "execution_count": 12,
      "outputs": [
        {
          "output_type": "execute_result",
          "data": {
            "text/plain": [
              "48545967465"
            ]
          },
          "metadata": {},
          "execution_count": 12
        }
      ]
    },
    {
      "cell_type": "code",
      "source": [
        "d"
      ],
      "metadata": {
        "colab": {
          "base_uri": "https://localhost:8080/"
        },
        "id": "mH-mp6QmLCXy",
        "outputId": "32a011a5-cc7f-4f55-a185-e021b79cca39"
      },
      "execution_count": 13,
      "outputs": [
        {
          "output_type": "execute_result",
          "data": {
            "text/plain": [
              "{'rachel': 8554564565, 'monica': 4845626264, 'joey': 48545967465}"
            ]
          },
          "metadata": {},
          "execution_count": 13
        }
      ]
    },
    {
      "cell_type": "code",
      "source": [
        "d['mohan']"
      ],
      "metadata": {
        "colab": {
          "base_uri": "https://localhost:8080/",
          "height": 141
        },
        "id": "4C2pfmbULTZO",
        "outputId": "6a43e365-1c35-4f56-ab03-010e594a5bfd"
      },
      "execution_count": 14,
      "outputs": [
        {
          "output_type": "error",
          "ename": "KeyError",
          "evalue": "'mohan'",
          "traceback": [
            "\u001b[0;31m---------------------------------------------------------------------------\u001b[0m",
            "\u001b[0;31mKeyError\u001b[0m                                  Traceback (most recent call last)",
            "\u001b[0;32m<ipython-input-14-5ae6c8520369>\u001b[0m in \u001b[0;36m<cell line: 0>\u001b[0;34m()\u001b[0m\n\u001b[0;32m----> 1\u001b[0;31m \u001b[0md\u001b[0m\u001b[0;34m[\u001b[0m\u001b[0;34m'mohan'\u001b[0m\u001b[0;34m]\u001b[0m\u001b[0;34m\u001b[0m\u001b[0;34m\u001b[0m\u001b[0m\n\u001b[0m",
            "\u001b[0;31mKeyError\u001b[0m: 'mohan'"
          ]
        }
      ]
    },
    {
      "cell_type": "code",
      "source": [
        "d.get('joey', 0)"
      ],
      "metadata": {
        "colab": {
          "base_uri": "https://localhost:8080/"
        },
        "id": "ARCXb6D2LXla",
        "outputId": "9b5e3216-c612-404e-be2b-090c79bfdb12"
      },
      "execution_count": 17,
      "outputs": [
        {
          "output_type": "execute_result",
          "data": {
            "text/plain": [
              "48545967465"
            ]
          },
          "metadata": {},
          "execution_count": 17
        }
      ]
    },
    {
      "cell_type": "code",
      "source": [
        "d['rachel'] = 1112223334"
      ],
      "metadata": {
        "id": "oKvxDcSKLetp"
      },
      "execution_count": 18,
      "outputs": []
    },
    {
      "cell_type": "code",
      "source": [
        "d"
      ],
      "metadata": {
        "colab": {
          "base_uri": "https://localhost:8080/"
        },
        "id": "JnvqtKHmOieD",
        "outputId": "1baff394-4055-4f71-8b15-6ea0cc23cceb"
      },
      "execution_count": 19,
      "outputs": [
        {
          "output_type": "execute_result",
          "data": {
            "text/plain": [
              "{'rachel': 1112223334, 'monica': 4845626264, 'joey': 48545967465}"
            ]
          },
          "metadata": {},
          "execution_count": 19
        }
      ]
    },
    {
      "cell_type": "code",
      "source": [
        "d['satya'] = 2222555543"
      ],
      "metadata": {
        "id": "-0fRbLG0OjAK"
      },
      "execution_count": 20,
      "outputs": []
    },
    {
      "cell_type": "code",
      "source": [
        "d"
      ],
      "metadata": {
        "colab": {
          "base_uri": "https://localhost:8080/"
        },
        "id": "0Shr3MEtOqMi",
        "outputId": "be915eca-2c84-4531-d072-9c3c7ee503b9"
      },
      "execution_count": 21,
      "outputs": [
        {
          "output_type": "execute_result",
          "data": {
            "text/plain": [
              "{'rachel': 1112223334,\n",
              " 'monica': 4845626264,\n",
              " 'joey': 48545967465,\n",
              " 'satya': 2222555543}"
            ]
          },
          "metadata": {},
          "execution_count": 21
        }
      ]
    },
    {
      "cell_type": "code",
      "source": [
        "del d['satya']"
      ],
      "metadata": {
        "id": "Vd4C8NpTOqxK"
      },
      "execution_count": 22,
      "outputs": []
    },
    {
      "cell_type": "code",
      "source": [
        "d"
      ],
      "metadata": {
        "colab": {
          "base_uri": "https://localhost:8080/"
        },
        "id": "oFQ5cILiOtIG",
        "outputId": "c8fc2ed9-50b8-45b7-bc57-c57259524343"
      },
      "execution_count": 23,
      "outputs": [
        {
          "output_type": "execute_result",
          "data": {
            "text/plain": [
              "{'rachel': 1112223334, 'monica': 4845626264, 'joey': 48545967465}"
            ]
          },
          "metadata": {},
          "execution_count": 23
        }
      ]
    },
    {
      "cell_type": "code",
      "source": [
        "'abdul' in d"
      ],
      "metadata": {
        "colab": {
          "base_uri": "https://localhost:8080/"
        },
        "id": "T-frNTxWOtbc",
        "outputId": "1e038875-00f3-4dec-d8c3-47c6fd6341bb"
      },
      "execution_count": 24,
      "outputs": [
        {
          "output_type": "execute_result",
          "data": {
            "text/plain": [
              "False"
            ]
          },
          "metadata": {},
          "execution_count": 24
        }
      ]
    },
    {
      "cell_type": "code",
      "source": [
        "'joey' in d"
      ],
      "metadata": {
        "colab": {
          "base_uri": "https://localhost:8080/"
        },
        "id": "LAdyX-bFOw5b",
        "outputId": "a2b07ae6-1ed9-45e9-9f7c-c749075dcbe7"
      },
      "execution_count": 25,
      "outputs": [
        {
          "output_type": "execute_result",
          "data": {
            "text/plain": [
              "True"
            ]
          },
          "metadata": {},
          "execution_count": 25
        }
      ]
    },
    {
      "cell_type": "code",
      "source": [
        "d = {\n",
        "    'rachel' : {'phone' : 3245, 'address' : '1 blue st'},\n",
        "    'joey' : {'phone' : 5643, 'address' : '2 green st'}\n",
        "}"
      ],
      "metadata": {
        "id": "zOhWMVP1OzP6"
      },
      "execution_count": 26,
      "outputs": []
    },
    {
      "cell_type": "code",
      "source": [
        "d"
      ],
      "metadata": {
        "colab": {
          "base_uri": "https://localhost:8080/"
        },
        "id": "2UHnu9-gPTJ-",
        "outputId": "c57daa0f-cdc0-43ad-fb82-c19ff088735b"
      },
      "execution_count": 27,
      "outputs": [
        {
          "output_type": "execute_result",
          "data": {
            "text/plain": [
              "{'rachel': {'phone': 3245, 'address': '1 blue st'},\n",
              " 'joey': {'phone': 5643, 'address': '2 green st'}}"
            ]
          },
          "metadata": {},
          "execution_count": 27
        }
      ]
    },
    {
      "cell_type": "code",
      "source": [
        "d['rachel']['address']"
      ],
      "metadata": {
        "colab": {
          "base_uri": "https://localhost:8080/",
          "height": 36
        },
        "id": "GSxxAP3BPT2u",
        "outputId": "51eb2380-39e9-4212-b06b-a3825f3d5252"
      },
      "execution_count": 28,
      "outputs": [
        {
          "output_type": "execute_result",
          "data": {
            "text/plain": [
              "'1 blue st'"
            ],
            "application/vnd.google.colaboratory.intrinsic+json": {
              "type": "string"
            }
          },
          "metadata": {},
          "execution_count": 28
        }
      ]
    },
    {
      "cell_type": "code",
      "source": [
        "d= {\n",
        "    'rachel': 8554564565,\n",
        "    'monica': 4845626264,\n",
        "    'joey': 48545967465\n",
        "}\n",
        "d"
      ],
      "metadata": {
        "colab": {
          "base_uri": "https://localhost:8080/"
        },
        "id": "Syghjx0uPZnn",
        "outputId": "10a1c8f0-95aa-43fa-a7e1-fc4539f29447"
      },
      "execution_count": 29,
      "outputs": [
        {
          "output_type": "execute_result",
          "data": {
            "text/plain": [
              "{'rachel': 8554564565, 'monica': 4845626264, 'joey': 48545967465}"
            ]
          },
          "metadata": {},
          "execution_count": 29
        }
      ]
    },
    {
      "cell_type": "code",
      "source": [
        "for name in d:\n",
        "  print(name, d[name])"
      ],
      "metadata": {
        "colab": {
          "base_uri": "https://localhost:8080/"
        },
        "id": "j4HONrntPfEZ",
        "outputId": "7996cecd-8d95-4363-fd09-3147135b1f8d"
      },
      "execution_count": 31,
      "outputs": [
        {
          "output_type": "stream",
          "name": "stdout",
          "text": [
            "rachel 8554564565\n",
            "monica 4845626264\n",
            "joey 48545967465\n"
          ]
        }
      ]
    },
    {
      "cell_type": "code",
      "source": [
        "for name, number in d.items():\n",
        "  print(name, number)"
      ],
      "metadata": {
        "colab": {
          "base_uri": "https://localhost:8080/"
        },
        "id": "JDXof2U3Pn_3",
        "outputId": "ebb6eb36-f9d6-4040-8ab7-c6c1c5a6eb91"
      },
      "execution_count": 32,
      "outputs": [
        {
          "output_type": "stream",
          "name": "stdout",
          "text": [
            "rachel 8554564565\n",
            "monica 4845626264\n",
            "joey 48545967465\n"
          ]
        }
      ]
    },
    {
      "cell_type": "code",
      "source": [
        "d.keys()"
      ],
      "metadata": {
        "colab": {
          "base_uri": "https://localhost:8080/"
        },
        "id": "Y_vA3bXFQMjL",
        "outputId": "505c2928-4c07-4395-b5dc-31855a2ad7a3"
      },
      "execution_count": 33,
      "outputs": [
        {
          "output_type": "execute_result",
          "data": {
            "text/plain": [
              "dict_keys(['rachel', 'monica', 'joey'])"
            ]
          },
          "metadata": {},
          "execution_count": 33
        }
      ]
    },
    {
      "cell_type": "code",
      "source": [
        "d.values()"
      ],
      "metadata": {
        "colab": {
          "base_uri": "https://localhost:8080/"
        },
        "id": "Z3mcrgG0QYCf",
        "outputId": "0445e72c-21ee-40da-a7f9-1ee4a95c6296"
      },
      "execution_count": 34,
      "outputs": [
        {
          "output_type": "execute_result",
          "data": {
            "text/plain": [
              "dict_values([8554564565, 4845626264, 48545967465])"
            ]
          },
          "metadata": {},
          "execution_count": 34
        }
      ]
    },
    {
      "cell_type": "code",
      "source": [],
      "metadata": {
        "id": "H6zdoJPqQeae"
      },
      "execution_count": 36,
      "outputs": []
    },
    {
      "cell_type": "code",
      "source": [],
      "metadata": {
        "id": "hNFi-0jnQ4hC"
      },
      "execution_count": null,
      "outputs": []
    }
  ]
}