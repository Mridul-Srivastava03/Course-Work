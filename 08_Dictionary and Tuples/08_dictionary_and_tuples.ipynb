{
  "cells": [
    {
      "cell_type": "code",
      "execution_count": null,
      "metadata": {
        "id": "lm05s1QOOmaD"
      },
      "outputs": [],
      "source": [
        "expense = [1200, 1400, 1700]"
      ]
    },
    {
      "cell_type": "code",
      "execution_count": null,
      "metadata": {
        "id": "0zz1aZL7PBuu"
      },
      "outputs": [],
      "source": [
        "point = (5,6)"
      ]
    },
    {
      "cell_type": "code",
      "execution_count": null,
      "metadata": {
        "colab": {
          "base_uri": "https://localhost:8080/"
        },
        "id": "3pv2ZFNVPE1j",
        "outputId": "4c28ea83-a4a7-4160-eb16-ce0a693f7ef3"
      },
      "outputs": [
        {
          "data": {
            "text/plain": [
              "5"
            ]
          },
          "execution_count": 3,
          "metadata": {},
          "output_type": "execute_result"
        }
      ],
      "source": [
        "point[0]"
      ]
    },
    {
      "cell_type": "code",
      "execution_count": null,
      "metadata": {
        "colab": {
          "base_uri": "https://localhost:8080/"
        },
        "id": "qDzpLVVMPHti",
        "outputId": "4e6e2eb2-3ce1-431d-eb2e-73adcfff0a92"
      },
      "outputs": [
        {
          "data": {
            "text/plain": [
              "6"
            ]
          },
          "execution_count": 4,
          "metadata": {},
          "output_type": "execute_result"
        }
      ],
      "source": [
        "point[1]"
      ]
    },
    {
      "cell_type": "code",
      "execution_count": null,
      "metadata": {
        "colab": {
          "base_uri": "https://localhost:8080/",
          "height": 141
        },
        "id": "xJWOJe06PLHn",
        "outputId": "e486bf71-00b8-4e54-bb69-957f9659322d"
      },
      "outputs": [
        {
          "ename": "TypeError",
          "evalue": "'tuple' object does not support item assignment",
          "output_type": "error",
          "traceback": [
            "\u001b[0;31m---------------------------------------------------------------------------\u001b[0m",
            "\u001b[0;31mTypeError\u001b[0m                                 Traceback (most recent call last)",
            "\u001b[0;32m<ipython-input-5-774c5d3caf10>\u001b[0m in \u001b[0;36m<cell line: 0>\u001b[0;34m()\u001b[0m\n\u001b[0;32m----> 1\u001b[0;31m \u001b[0mpoint\u001b[0m\u001b[0;34m[\u001b[0m\u001b[0;36m0\u001b[0m\u001b[0;34m]\u001b[0m \u001b[0;34m=\u001b[0m \u001b[0;36m3\u001b[0m\u001b[0;34m\u001b[0m\u001b[0;34m\u001b[0m\u001b[0m\n\u001b[0m",
            "\u001b[0;31mTypeError\u001b[0m: 'tuple' object does not support item assignment"
          ]
        }
      ],
      "source": [
        "point[0] = 3"
      ]
    },
    {
      "cell_type": "code",
      "execution_count": 2,
      "metadata": {
        "id": "luqxQ5NqPPcn"
      },
      "outputs": [],
      "source": [
        "def find_pe_and_pb(price, eps, book_value):\n",
        "  pe = price/eps\n",
        "  pb = price/book_value\n",
        "  return pe, pb"
      ]
    },
    {
      "cell_type": "code",
      "execution_count": 3,
      "metadata": {
        "id": "KwYfBrmrPw6Y"
      },
      "outputs": [],
      "source": [
        "pe_ratio, pb_ratio = find_pe_and_pb(100,2,4)"
      ]
    },
    {
      "cell_type": "code",
      "execution_count": 4,
      "metadata": {
        "colab": {
          "base_uri": "https://localhost:8080/"
        },
        "id": "SMTUdSv4P6Mi",
        "outputId": "c6367f8b-5725-45fc-8b50-b36852a9b09a"
      },
      "outputs": [
        {
          "name": "stdout",
          "output_type": "stream",
          "text": [
            "50.0 25.0\n"
          ]
        }
      ],
      "source": [
        "print(pe_ratio,pb_ratio)"
      ]
    },
    {
      "cell_type": "code",
      "execution_count": 7,
      "metadata": {
        "colab": {
          "base_uri": "https://localhost:8080/"
        },
        "id": "A26b82TrJxt2",
        "outputId": "8d84ac77-120d-48af-a9ee-82618b120f32"
      },
      "outputs": [
        {
          "data": {
            "text/plain": [
              "tuple"
            ]
          },
          "execution_count": 7,
          "metadata": {},
          "output_type": "execute_result"
        }
      ],
      "source": [
        "type(find_pe_and_pb(100, 456, 44))"
      ]
    },
    {
      "cell_type": "code",
      "execution_count": 8,
      "metadata": {
        "id": "TXhGJ0DxP-du"
      },
      "outputs": [],
      "source": [
        "contacts = [('rachel', 8554564565), ('monica', 4845626264), ('joey', 48545967465)]"
      ]
    },
    {
      "cell_type": "code",
      "execution_count": 10,
      "metadata": {
        "colab": {
          "base_uri": "https://localhost:8080/"
        },
        "id": "wh-gqyCWQhlM",
        "outputId": "a05fac04-1a81-4ef6-f740-9918e1680c2d"
      },
      "outputs": [
        {
          "name": "stdout",
          "output_type": "stream",
          "text": [
            "8554564565\n"
          ]
        }
      ],
      "source": [
        "for contact in contacts:\n",
        "  if contact[0] == 'rachel':\n",
        "    print(contact[1])"
      ]
    },
    {
      "cell_type": "code",
      "execution_count": 11,
      "metadata": {
        "id": "gT0_Fg2hKZpF"
      },
      "outputs": [],
      "source": [
        "d= {\n",
        "    'rachel': 8554564565,\n",
        "    'monica': 4845626264,\n",
        "    'joey': 48545967465\n",
        "}"
      ]
    },
    {
      "cell_type": "code",
      "execution_count": 12,
      "metadata": {
        "colab": {
          "base_uri": "https://localhost:8080/"
        },
        "id": "lqYdLepXK_gm",
        "outputId": "55a32c78-96f6-45fa-d4de-8ce1a42ee8f9"
      },
      "outputs": [
        {
          "data": {
            "text/plain": [
              "48545967465"
            ]
          },
          "execution_count": 12,
          "metadata": {},
          "output_type": "execute_result"
        }
      ],
      "source": [
        "d['joey']"
      ]
    },
    {
      "cell_type": "code",
      "execution_count": 13,
      "metadata": {
        "colab": {
          "base_uri": "https://localhost:8080/"
        },
        "id": "mH-mp6QmLCXy",
        "outputId": "32a011a5-cc7f-4f55-a185-e021b79cca39"
      },
      "outputs": [
        {
          "data": {
            "text/plain": [
              "{'rachel': 8554564565, 'monica': 4845626264, 'joey': 48545967465}"
            ]
          },
          "execution_count": 13,
          "metadata": {},
          "output_type": "execute_result"
        }
      ],
      "source": [
        "d"
      ]
    },
    {
      "cell_type": "code",
      "execution_count": 14,
      "metadata": {
        "colab": {
          "base_uri": "https://localhost:8080/",
          "height": 141
        },
        "id": "4C2pfmbULTZO",
        "outputId": "6a43e365-1c35-4f56-ab03-010e594a5bfd"
      },
      "outputs": [
        {
          "ename": "KeyError",
          "evalue": "'mohan'",
          "output_type": "error",
          "traceback": [
            "\u001b[0;31m---------------------------------------------------------------------------\u001b[0m",
            "\u001b[0;31mKeyError\u001b[0m                                  Traceback (most recent call last)",
            "\u001b[0;32m<ipython-input-14-5ae6c8520369>\u001b[0m in \u001b[0;36m<cell line: 0>\u001b[0;34m()\u001b[0m\n\u001b[0;32m----> 1\u001b[0;31m \u001b[0md\u001b[0m\u001b[0;34m[\u001b[0m\u001b[0;34m'mohan'\u001b[0m\u001b[0;34m]\u001b[0m\u001b[0;34m\u001b[0m\u001b[0;34m\u001b[0m\u001b[0m\n\u001b[0m",
            "\u001b[0;31mKeyError\u001b[0m: 'mohan'"
          ]
        }
      ],
      "source": [
        "d['mohan']"
      ]
    },
    {
      "cell_type": "code",
      "execution_count": 17,
      "metadata": {
        "colab": {
          "base_uri": "https://localhost:8080/"
        },
        "id": "ARCXb6D2LXla",
        "outputId": "9b5e3216-c612-404e-be2b-090c79bfdb12"
      },
      "outputs": [
        {
          "data": {
            "text/plain": [
              "48545967465"
            ]
          },
          "execution_count": 17,
          "metadata": {},
          "output_type": "execute_result"
        }
      ],
      "source": [
        "d.get('joey', 0)"
      ]
    },
    {
      "cell_type": "code",
      "execution_count": 18,
      "metadata": {
        "id": "oKvxDcSKLetp"
      },
      "outputs": [],
      "source": [
        "d['rachel'] = 1112223334"
      ]
    },
    {
      "cell_type": "code",
      "execution_count": 19,
      "metadata": {
        "colab": {
          "base_uri": "https://localhost:8080/"
        },
        "id": "JnvqtKHmOieD",
        "outputId": "1baff394-4055-4f71-8b15-6ea0cc23cceb"
      },
      "outputs": [
        {
          "data": {
            "text/plain": [
              "{'rachel': 1112223334, 'monica': 4845626264, 'joey': 48545967465}"
            ]
          },
          "execution_count": 19,
          "metadata": {},
          "output_type": "execute_result"
        }
      ],
      "source": [
        "d"
      ]
    },
    {
      "cell_type": "code",
      "execution_count": 20,
      "metadata": {
        "id": "-0fRbLG0OjAK"
      },
      "outputs": [],
      "source": [
        "d['satya'] = 2222555543"
      ]
    },
    {
      "cell_type": "code",
      "execution_count": 21,
      "metadata": {
        "colab": {
          "base_uri": "https://localhost:8080/"
        },
        "id": "0Shr3MEtOqMi",
        "outputId": "be915eca-2c84-4531-d072-9c3c7ee503b9"
      },
      "outputs": [
        {
          "data": {
            "text/plain": [
              "{'rachel': 1112223334,\n",
              " 'monica': 4845626264,\n",
              " 'joey': 48545967465,\n",
              " 'satya': 2222555543}"
            ]
          },
          "execution_count": 21,
          "metadata": {},
          "output_type": "execute_result"
        }
      ],
      "source": [
        "d"
      ]
    },
    {
      "cell_type": "code",
      "execution_count": 22,
      "metadata": {
        "id": "Vd4C8NpTOqxK"
      },
      "outputs": [],
      "source": [
        "del d['satya']"
      ]
    },
    {
      "cell_type": "code",
      "execution_count": 23,
      "metadata": {
        "colab": {
          "base_uri": "https://localhost:8080/"
        },
        "id": "oFQ5cILiOtIG",
        "outputId": "c8fc2ed9-50b8-45b7-bc57-c57259524343"
      },
      "outputs": [
        {
          "data": {
            "text/plain": [
              "{'rachel': 1112223334, 'monica': 4845626264, 'joey': 48545967465}"
            ]
          },
          "execution_count": 23,
          "metadata": {},
          "output_type": "execute_result"
        }
      ],
      "source": [
        "d"
      ]
    },
    {
      "cell_type": "code",
      "execution_count": 24,
      "metadata": {
        "colab": {
          "base_uri": "https://localhost:8080/"
        },
        "id": "T-frNTxWOtbc",
        "outputId": "1e038875-00f3-4dec-d8c3-47c6fd6341bb"
      },
      "outputs": [
        {
          "data": {
            "text/plain": [
              "False"
            ]
          },
          "execution_count": 24,
          "metadata": {},
          "output_type": "execute_result"
        }
      ],
      "source": [
        "'abdul' in d"
      ]
    },
    {
      "cell_type": "code",
      "execution_count": 25,
      "metadata": {
        "colab": {
          "base_uri": "https://localhost:8080/"
        },
        "id": "LAdyX-bFOw5b",
        "outputId": "a2b07ae6-1ed9-45e9-9f7c-c749075dcbe7"
      },
      "outputs": [
        {
          "data": {
            "text/plain": [
              "True"
            ]
          },
          "execution_count": 25,
          "metadata": {},
          "output_type": "execute_result"
        }
      ],
      "source": [
        "'joey' in d"
      ]
    },
    {
      "cell_type": "code",
      "execution_count": 26,
      "metadata": {
        "id": "zOhWMVP1OzP6"
      },
      "outputs": [],
      "source": [
        "d = {\n",
        "    'rachel' : {'phone' : 3245, 'address' : '1 blue st'},\n",
        "    'joey' : {'phone' : 5643, 'address' : '2 green st'}\n",
        "}"
      ]
    },
    {
      "cell_type": "code",
      "execution_count": 27,
      "metadata": {
        "colab": {
          "base_uri": "https://localhost:8080/"
        },
        "id": "2UHnu9-gPTJ-",
        "outputId": "c57daa0f-cdc0-43ad-fb82-c19ff088735b"
      },
      "outputs": [
        {
          "data": {
            "text/plain": [
              "{'rachel': {'phone': 3245, 'address': '1 blue st'},\n",
              " 'joey': {'phone': 5643, 'address': '2 green st'}}"
            ]
          },
          "execution_count": 27,
          "metadata": {},
          "output_type": "execute_result"
        }
      ],
      "source": [
        "d"
      ]
    },
    {
      "cell_type": "code",
      "execution_count": 28,
      "metadata": {
        "colab": {
          "base_uri": "https://localhost:8080/",
          "height": 36
        },
        "id": "GSxxAP3BPT2u",
        "outputId": "51eb2380-39e9-4212-b06b-a3825f3d5252"
      },
      "outputs": [
        {
          "data": {
            "application/vnd.google.colaboratory.intrinsic+json": {
              "type": "string"
            },
            "text/plain": [
              "'1 blue st'"
            ]
          },
          "execution_count": 28,
          "metadata": {},
          "output_type": "execute_result"
        }
      ],
      "source": [
        "d['rachel']['address']"
      ]
    },
    {
      "cell_type": "code",
      "execution_count": 29,
      "metadata": {
        "colab": {
          "base_uri": "https://localhost:8080/"
        },
        "id": "Syghjx0uPZnn",
        "outputId": "10a1c8f0-95aa-43fa-a7e1-fc4539f29447"
      },
      "outputs": [
        {
          "data": {
            "text/plain": [
              "{'rachel': 8554564565, 'monica': 4845626264, 'joey': 48545967465}"
            ]
          },
          "execution_count": 29,
          "metadata": {},
          "output_type": "execute_result"
        }
      ],
      "source": [
        "d= {\n",
        "    'rachel': 8554564565,\n",
        "    'monica': 4845626264,\n",
        "    'joey': 48545967465\n",
        "}\n",
        "d"
      ]
    },
    {
      "cell_type": "code",
      "execution_count": 31,
      "metadata": {
        "colab": {
          "base_uri": "https://localhost:8080/"
        },
        "id": "j4HONrntPfEZ",
        "outputId": "7996cecd-8d95-4363-fd09-3147135b1f8d"
      },
      "outputs": [
        {
          "name": "stdout",
          "output_type": "stream",
          "text": [
            "rachel 8554564565\n",
            "monica 4845626264\n",
            "joey 48545967465\n"
          ]
        }
      ],
      "source": [
        "for name in d:\n",
        "  print(name, d[name])"
      ]
    },
    {
      "cell_type": "code",
      "execution_count": 32,
      "metadata": {
        "colab": {
          "base_uri": "https://localhost:8080/"
        },
        "id": "JDXof2U3Pn_3",
        "outputId": "ebb6eb36-f9d6-4040-8ab7-c6c1c5a6eb91"
      },
      "outputs": [
        {
          "name": "stdout",
          "output_type": "stream",
          "text": [
            "rachel 8554564565\n",
            "monica 4845626264\n",
            "joey 48545967465\n"
          ]
        }
      ],
      "source": [
        "for name, number in d.items():\n",
        "  print(name, number)"
      ]
    },
    {
      "cell_type": "code",
      "execution_count": 33,
      "metadata": {
        "colab": {
          "base_uri": "https://localhost:8080/"
        },
        "id": "Y_vA3bXFQMjL",
        "outputId": "505c2928-4c07-4395-b5dc-31855a2ad7a3"
      },
      "outputs": [
        {
          "data": {
            "text/plain": [
              "dict_keys(['rachel', 'monica', 'joey'])"
            ]
          },
          "execution_count": 33,
          "metadata": {},
          "output_type": "execute_result"
        }
      ],
      "source": [
        "d.keys()"
      ]
    },
    {
      "cell_type": "code",
      "execution_count": 34,
      "metadata": {
        "colab": {
          "base_uri": "https://localhost:8080/"
        },
        "id": "Z3mcrgG0QYCf",
        "outputId": "0445e72c-21ee-40da-a7f9-1ee4a95c6296"
      },
      "outputs": [
        {
          "data": {
            "text/plain": [
              "dict_values([8554564565, 4845626264, 48545967465])"
            ]
          },
          "execution_count": 34,
          "metadata": {},
          "output_type": "execute_result"
        }
      ],
      "source": [
        "d.values()"
      ]
    },
    {
      "cell_type": "code",
      "execution_count": 36,
      "metadata": {
        "id": "H6zdoJPqQeae"
      },
      "outputs": [],
      "source": []
    },
    {
      "cell_type": "code",
      "execution_count": null,
      "metadata": {
        "id": "hNFi-0jnQ4hC"
      },
      "outputs": [],
      "source": []
    }
  ],
  "metadata": {
    "colab": {
      "provenance": []
    },
    "kernelspec": {
      "display_name": "Python 3",
      "name": "python3"
    },
    "language_info": {
      "name": "python"
    }
  },
  "nbformat": 4,
  "nbformat_minor": 0
}
